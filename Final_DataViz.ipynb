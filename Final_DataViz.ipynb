{
  "nbformat": 4,
  "nbformat_minor": 0,
  "metadata": {
    "colab": {
      "name": "Final_DataViz.ipynb",
      "provenance": [],
      "authorship_tag": "ABX9TyMmPBHpHt1FOrXEXE5v8dp/",
      "include_colab_link": true
    },
    "kernelspec": {
      "name": "python3",
      "display_name": "Python 3"
    },
    "language_info": {
      "name": "python"
    }
  },
  "cells": [
    {
      "cell_type": "markdown",
      "metadata": {
        "id": "view-in-github",
        "colab_type": "text"
      },
      "source": [
        "<a href=\"https://colab.research.google.com/github/Jittiya/data_viz_2022/blob/main/Final_DataViz.ipynb\" target=\"_parent\"><img src=\"https://colab.research.google.com/assets/colab-badge.svg\" alt=\"Open In Colab\"/></a>"
      ]
    },
    {
      "cell_type": "markdown",
      "source": [
        "# Final Exam: งานกลุ่ม Final ที่อาจารย์สุ่มให้\n",
        "ให้นักศึกษาสร้าง Dashboard แสดงรายงานเกี่ยวกับข้อมูลการตรวจโรค(ov) จาก ไฟล์ alldb.csv และ hospital_list.xlsx\n",
        "\n",
        "( ดาวน์โหลดจาก https://drive.google.com/.../1D... )\n",
        "\n",
        "โดยข้อมูลหลักจะอยู่ใน ตาราง alldb.csv (ข้อมูลที่สมบูรณ์ที่สามารถนำมาใช้งานได้ต้องมีค่าใน column ต่อไปนี้ดังนี้\n",
        "\n",
        "user เป็นตัวเลข 5 หลัก (ตัวเลขเท่านั้น)\n",
        "\n",
        "* RowKey เป็น String\n",
        "* date เป็น YYYY-MM-DD\n",
        "* phone เป็น String\n",
        "* site เป็นตัวเลข 5 หลัก (ตัวเลขเท่านั้น)\n",
        "* time เป็น hh-mm-ss\n",
        "* urine มีค่า String\n",
        "* ov เป็นตัวเลข มีค่าตั้งแต่ 0-4 (0 คือไม่พบโรค 1-4 คือพบโรคที่ระดับความรุนแรงต่างๆ)\n",
        "* PartitionKey เป็นตัวเลข 5 หลัก (ตัวเลขเท่านั้น))\n",
        "\n",
        "ไฟล์ alldb.csv และ hospital_list.xlsx สามารถถูกเชื่อมโยงกันโดย site ในไฟล์ alldb.csv คือ hcode ในไฟล์ hospital_list.xlsx\n",
        "\n",
        "โดยข้อมูลสำคัญที่ต้องแสดงคือ\n",
        "\n",
        "* จำนวนการตรวจในแต่ละพื้นที่ (จังหวัด-อำเภอ ในไฟล์ hospital_list.xlsx) เทียบกับ จำนวนที่พบโรค (column ov ในไฟล์ alldb.csv)\n",
        "* ช่วงเวลาที่ตรวจ (date ในไฟล์ alldb.csv)\n",
        "* อื่นๆที่นักศึกษาเห็นว่าเป็นประโยชน์ (phone (ชนิดโทรศัพท์ที่ใช้บันทึก), title (คำนำหน้าชื่อ), age (อายุ))\n",
        "\n",
        "(คิดคะแนนตามกลุ่ม final โดยไฟล์ที่ทุกคนในกลุ่มต้องมีคือไฟล์ data pre-processing และ link ไปที่ Dashboard ที่สร้่างโดยเปิดให้สามารถเข้าไปดูและใช้งานได้)\n",
        "\n",
        "ส่งไม่เกิน 23.59 วันจันทร์ที่ 11 เมษายน 2565"
      ],
      "metadata": {
        "id": "M0LcQRuulNDm"
      }
    },
    {
      "cell_type": "code",
      "execution_count": null,
      "metadata": {
        "id": "YU4MC47Ak-YZ"
      },
      "outputs": [],
      "source": [
        ""
      ]
    }
  ]
}