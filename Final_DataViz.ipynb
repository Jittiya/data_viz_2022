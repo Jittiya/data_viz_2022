{
  "nbformat": 4,
  "nbformat_minor": 0,
  "metadata": {
    "colab": {
      "name": "Final_DataViz.ipynb",
      "provenance": [],
      "authorship_tag": "ABX9TyMAgk/dLgzsYhTWDKeneUoi",
      "include_colab_link": true
    },
    "kernelspec": {
      "name": "python3",
      "display_name": "Python 3"
    },
    "language_info": {
      "name": "python"
    }
  },
  "cells": [
    {
      "cell_type": "markdown",
      "metadata": {
        "id": "view-in-github",
        "colab_type": "text"
      },
      "source": [
        "<a href=\"https://colab.research.google.com/github/Jittiya/data_viz_2022/blob/main/Final_DataViz.ipynb\" target=\"_parent\"><img src=\"https://colab.research.google.com/assets/colab-badge.svg\" alt=\"Open In Colab\"/></a>"
      ]
    },
    {
      "cell_type": "markdown",
      "source": [
        "# Final Exam: งานกลุ่ม Final ที่อาจารย์สุ่มให้\n",
        "ให้นักศึกษาสร้าง Dashboard แสดงรายงานเกี่ยวกับข้อมูลการตรวจโรค(ov) จาก ไฟล์ alldb.csv และ hospital_list.xlsx\n",
        "\n",
        "( ดาวน์โหลดจาก https://drive.google.com/.../1D... )\n",
        "\n",
        "โดยข้อมูลหลักจะอยู่ใน ตาราง alldb.csv (ข้อมูลที่สมบูรณ์ที่สามารถนำมาใช้งานได้ต้องมีค่าใน column ต่อไปนี้ดังนี้\n",
        "\n",
        "user เป็นตัวเลข 5 หลัก (ตัวเลขเท่านั้น)\n",
        "\n",
        "* RowKey เป็น String\n",
        "* date เป็น YYYY-MM-DD\n",
        "* phone เป็น String\n",
        "* site เป็นตัวเลข 5 หลัก (ตัวเลขเท่านั้น)\n",
        "* time เป็น hh-mm-ss\n",
        "* urine มีค่า String\n",
        "* ov เป็นตัวเลข มีค่าตั้งแต่ 0-4 (0 คือไม่พบโรค 1-4 คือพบโรคที่ระดับความรุนแรงต่างๆ)\n",
        "* PartitionKey เป็นตัวเลข 5 หลัก (ตัวเลขเท่านั้น))\n",
        "\n",
        "ไฟล์ alldb.csv และ hospital_list.xlsx สามารถถูกเชื่อมโยงกันโดย site ในไฟล์ alldb.csv คือ hcode ในไฟล์ hospital_list.xlsx\n",
        "\n",
        "โดยข้อมูลสำคัญที่ต้องแสดงคือ\n",
        "\n",
        "* จำนวนการตรวจในแต่ละพื้นที่ (จังหวัด-อำเภอ ในไฟล์ hospital_list.xlsx) เทียบกับ จำนวนที่พบโรค (column ov ในไฟล์ alldb.csv)\n",
        "* ช่วงเวลาที่ตรวจ (date ในไฟล์ alldb.csv)\n",
        "* อื่นๆที่นักศึกษาเห็นว่าเป็นประโยชน์ (phone (ชนิดโทรศัพท์ที่ใช้บันทึก), title (คำนำหน้าชื่อ), age (อายุ))\n",
        "\n",
        "(คิดคะแนนตามกลุ่ม final โดยไฟล์ที่ทุกคนในกลุ่มต้องมีคือไฟล์ data pre-processing และ link ไปที่ Dashboard ที่สร้่างโดยเปิดให้สามารถเข้าไปดูและใช้งานได้)\n",
        "\n",
        "ส่งไม่เกิน 23.59 วันจันทร์ที่ 11 เมษายน 2565"
      ],
      "metadata": {
        "id": "M0LcQRuulNDm"
      }
    },
    {
      "cell_type": "markdown",
      "source": [
        "# เรียกใช้ฟังฟ์ชั่น\n"
      ],
      "metadata": {
        "id": "-Ni-A1mEnSO6"
      }
    },
    {
      "cell_type": "code",
      "execution_count": 1,
      "metadata": {
        "id": "YU4MC47Ak-YZ"
      },
      "outputs": [],
      "source": [
        "import pandas as pd #เพื่อใช้ทำงานกับข้อมูลที่เป็นรูปแบบตาราง\n",
        "import os           #เพื่อจัดการกับไฟล์ และ ตัว path ที่เราจะนำเข้า"
      ]
    },
    {
      "cell_type": "code",
      "source": [
        "from google.colab import drive # เชื่อมบัญชีกับ google drive\n",
        "drive.mount('/content/drive') # เช็คว่าเชื่อมติดหรือไม่"
      ],
      "metadata": {
        "colab": {
          "base_uri": "https://localhost:8080/"
        },
        "id": "h0XFOikCnQyR",
        "outputId": "c01bd7a9-eec3-4a79-9425-9d0d2095f46f"
      },
      "execution_count": 2,
      "outputs": [
        {
          "output_type": "stream",
          "name": "stdout",
          "text": [
            "Mounted at /content/drive\n"
          ]
        }
      ]
    },
    {
      "cell_type": "code",
      "source": [
        "path = '/content/drive/My Drive/dataviz_2021_data'"
      ],
      "metadata": {
        "id": "6vME_IAinjWJ"
      },
      "execution_count": 3,
      "outputs": []
    },
    {
      "cell_type": "markdown",
      "source": [
        "## Data 1 ข้อมูลหลัก"
      ],
      "metadata": {
        "id": "sCsKosX4nuTx"
      }
    },
    {
      "cell_type": "code",
      "source": [
        "data1 = pd.read_csv(os.path.join(path,'alldb.csv'))\n",
        "data1"
      ],
      "metadata": {
        "colab": {
          "base_uri": "https://localhost:8080/",
          "height": 745
        },
        "id": "iY-54Bq6nraj",
        "outputId": "e96de147-d711-4439-8646-d57c9e326d2a"
      },
      "execution_count": 4,
      "outputs": [
        {
          "output_type": "execute_result",
          "data": {
            "text/plain": [
              "       Unnamed: 0           user                                    RowKey  \\\n",
              "0               0           test                                       NaN   \n",
              "1               1          04857      136FD222-FD9F-4E54-AE1F-7282A276B085   \n",
              "2               2            NaN  1E6D3D62-4C8A-4F8E-90D1-0DC5BC2752DF.png   \n",
              "3               3  3450101576642      2D331FB0-CBA2-4586-A5B0-CB3CF44DD9FE   \n",
              "4               4  3450101576642      45197AF7-7CB4-470C-9ABB-37C092BD6B21   \n",
              "...           ...            ...                                       ...   \n",
              "40030       40030            NaN      6B5FA20F-190E-4021-8547-C12308024C6C   \n",
              "40031       40031            NaN      F48C51C0-A345-40D6-93F4-46213267E1B1   \n",
              "40032       40032            NaN      A986BDAA-6D7C-4017-8E62-A3C104E946B9   \n",
              "40033       40033            NaN                            bbuogxulur.png   \n",
              "40034       40034            NaN                            zttpqogiso.png   \n",
              "\n",
              "      care        date   ov             phone   site      time  \\\n",
              "0      NaN         NaN  NaN               NaN    NaN       NaN   \n",
              "1      NaN  2022-02-24  NaN        iPhone10,4  05310  10:50:32   \n",
              "2      NaN         NaN  NaN               NaN    NaN       NaN   \n",
              "3      NaN  2022-02-23    0        iPhone13,4  05087  09:59:47   \n",
              "4      NaN  2022-02-23  NaN        iPhone13,4  05087  09:44:06   \n",
              "...    ...         ...  ...               ...    ...       ...   \n",
              "40030  NaN         NaN  NaN        iPhone13,4  01234       NaN   \n",
              "40031  NaN         NaN    2        iPhone10,5  01234       NaN   \n",
              "40032  NaN         NaN    1        iPhone13,4  01234       NaN   \n",
              "40033  NaN         NaN  NaN  Samsung SM-A115F  01234       NaN   \n",
              "40034  NaN         NaN    1  Samsung SM-A115F  01234       NaN   \n",
              "\n",
              "                 urine  pid            PartitionKey                  title  \\\n",
              "0                  NaN  NaN                     NaN  data is not completed   \n",
              "1                  NaN  NaN                     NaN  data is not completed   \n",
              "2                  NaN  NaN                     NaN  data is not completed   \n",
              "3      ปกติ (เหลืองใส)  NaN                     NaN  data is not completed   \n",
              "4      ปกติ (เหลืองใส)  NaN                     NaN  data is not completed   \n",
              "...                ...  ...                     ...                    ...   \n",
              "40030              NaN    5     เกษศิรินทร์  ไชยลาภ  data is not completed   \n",
              "40031  ปกติ (เหลืองใส)    5  เถลิงเกียรติ เสริฐเลิศ  data is not completed   \n",
              "40032  ปกติ (เหลืองใส)    1                    เสรี  data is not completed   \n",
              "40033              NaN    1                    เสรี  data is not completed   \n",
              "40034  ปกติ (เหลืองใส)    1                    เสรี  data is not completed   \n",
              "\n",
              "                         age  \n",
              "0      data is not completed  \n",
              "1      data is not completed  \n",
              "2      data is not completed  \n",
              "3      data is not completed  \n",
              "4      data is not completed  \n",
              "...                      ...  \n",
              "40030  data is not completed  \n",
              "40031  data is not completed  \n",
              "40032  data is not completed  \n",
              "40033  data is not completed  \n",
              "40034  data is not completed  \n",
              "\n",
              "[40035 rows x 14 columns]"
            ],
            "text/html": [
              "\n",
              "  <div id=\"df-602c7c3f-e86e-4e50-9bcf-4879fdf1514e\">\n",
              "    <div class=\"colab-df-container\">\n",
              "      <div>\n",
              "<style scoped>\n",
              "    .dataframe tbody tr th:only-of-type {\n",
              "        vertical-align: middle;\n",
              "    }\n",
              "\n",
              "    .dataframe tbody tr th {\n",
              "        vertical-align: top;\n",
              "    }\n",
              "\n",
              "    .dataframe thead th {\n",
              "        text-align: right;\n",
              "    }\n",
              "</style>\n",
              "<table border=\"1\" class=\"dataframe\">\n",
              "  <thead>\n",
              "    <tr style=\"text-align: right;\">\n",
              "      <th></th>\n",
              "      <th>Unnamed: 0</th>\n",
              "      <th>user</th>\n",
              "      <th>RowKey</th>\n",
              "      <th>care</th>\n",
              "      <th>date</th>\n",
              "      <th>ov</th>\n",
              "      <th>phone</th>\n",
              "      <th>site</th>\n",
              "      <th>time</th>\n",
              "      <th>urine</th>\n",
              "      <th>pid</th>\n",
              "      <th>PartitionKey</th>\n",
              "      <th>title</th>\n",
              "      <th>age</th>\n",
              "    </tr>\n",
              "  </thead>\n",
              "  <tbody>\n",
              "    <tr>\n",
              "      <th>0</th>\n",
              "      <td>0</td>\n",
              "      <td>test</td>\n",
              "      <td>NaN</td>\n",
              "      <td>NaN</td>\n",
              "      <td>NaN</td>\n",
              "      <td>NaN</td>\n",
              "      <td>NaN</td>\n",
              "      <td>NaN</td>\n",
              "      <td>NaN</td>\n",
              "      <td>NaN</td>\n",
              "      <td>NaN</td>\n",
              "      <td>NaN</td>\n",
              "      <td>data is not completed</td>\n",
              "      <td>data is not completed</td>\n",
              "    </tr>\n",
              "    <tr>\n",
              "      <th>1</th>\n",
              "      <td>1</td>\n",
              "      <td>04857</td>\n",
              "      <td>136FD222-FD9F-4E54-AE1F-7282A276B085</td>\n",
              "      <td>NaN</td>\n",
              "      <td>2022-02-24</td>\n",
              "      <td>NaN</td>\n",
              "      <td>iPhone10,4</td>\n",
              "      <td>05310</td>\n",
              "      <td>10:50:32</td>\n",
              "      <td>NaN</td>\n",
              "      <td>NaN</td>\n",
              "      <td>NaN</td>\n",
              "      <td>data is not completed</td>\n",
              "      <td>data is not completed</td>\n",
              "    </tr>\n",
              "    <tr>\n",
              "      <th>2</th>\n",
              "      <td>2</td>\n",
              "      <td>NaN</td>\n",
              "      <td>1E6D3D62-4C8A-4F8E-90D1-0DC5BC2752DF.png</td>\n",
              "      <td>NaN</td>\n",
              "      <td>NaN</td>\n",
              "      <td>NaN</td>\n",
              "      <td>NaN</td>\n",
              "      <td>NaN</td>\n",
              "      <td>NaN</td>\n",
              "      <td>NaN</td>\n",
              "      <td>NaN</td>\n",
              "      <td>NaN</td>\n",
              "      <td>data is not completed</td>\n",
              "      <td>data is not completed</td>\n",
              "    </tr>\n",
              "    <tr>\n",
              "      <th>3</th>\n",
              "      <td>3</td>\n",
              "      <td>3450101576642</td>\n",
              "      <td>2D331FB0-CBA2-4586-A5B0-CB3CF44DD9FE</td>\n",
              "      <td>NaN</td>\n",
              "      <td>2022-02-23</td>\n",
              "      <td>0</td>\n",
              "      <td>iPhone13,4</td>\n",
              "      <td>05087</td>\n",
              "      <td>09:59:47</td>\n",
              "      <td>ปกติ (เหลืองใส)</td>\n",
              "      <td>NaN</td>\n",
              "      <td>NaN</td>\n",
              "      <td>data is not completed</td>\n",
              "      <td>data is not completed</td>\n",
              "    </tr>\n",
              "    <tr>\n",
              "      <th>4</th>\n",
              "      <td>4</td>\n",
              "      <td>3450101576642</td>\n",
              "      <td>45197AF7-7CB4-470C-9ABB-37C092BD6B21</td>\n",
              "      <td>NaN</td>\n",
              "      <td>2022-02-23</td>\n",
              "      <td>NaN</td>\n",
              "      <td>iPhone13,4</td>\n",
              "      <td>05087</td>\n",
              "      <td>09:44:06</td>\n",
              "      <td>ปกติ (เหลืองใส)</td>\n",
              "      <td>NaN</td>\n",
              "      <td>NaN</td>\n",
              "      <td>data is not completed</td>\n",
              "      <td>data is not completed</td>\n",
              "    </tr>\n",
              "    <tr>\n",
              "      <th>...</th>\n",
              "      <td>...</td>\n",
              "      <td>...</td>\n",
              "      <td>...</td>\n",
              "      <td>...</td>\n",
              "      <td>...</td>\n",
              "      <td>...</td>\n",
              "      <td>...</td>\n",
              "      <td>...</td>\n",
              "      <td>...</td>\n",
              "      <td>...</td>\n",
              "      <td>...</td>\n",
              "      <td>...</td>\n",
              "      <td>...</td>\n",
              "      <td>...</td>\n",
              "    </tr>\n",
              "    <tr>\n",
              "      <th>40030</th>\n",
              "      <td>40030</td>\n",
              "      <td>NaN</td>\n",
              "      <td>6B5FA20F-190E-4021-8547-C12308024C6C</td>\n",
              "      <td>NaN</td>\n",
              "      <td>NaN</td>\n",
              "      <td>NaN</td>\n",
              "      <td>iPhone13,4</td>\n",
              "      <td>01234</td>\n",
              "      <td>NaN</td>\n",
              "      <td>NaN</td>\n",
              "      <td>5</td>\n",
              "      <td>เกษศิรินทร์  ไชยลาภ</td>\n",
              "      <td>data is not completed</td>\n",
              "      <td>data is not completed</td>\n",
              "    </tr>\n",
              "    <tr>\n",
              "      <th>40031</th>\n",
              "      <td>40031</td>\n",
              "      <td>NaN</td>\n",
              "      <td>F48C51C0-A345-40D6-93F4-46213267E1B1</td>\n",
              "      <td>NaN</td>\n",
              "      <td>NaN</td>\n",
              "      <td>2</td>\n",
              "      <td>iPhone10,5</td>\n",
              "      <td>01234</td>\n",
              "      <td>NaN</td>\n",
              "      <td>ปกติ (เหลืองใส)</td>\n",
              "      <td>5</td>\n",
              "      <td>เถลิงเกียรติ เสริฐเลิศ</td>\n",
              "      <td>data is not completed</td>\n",
              "      <td>data is not completed</td>\n",
              "    </tr>\n",
              "    <tr>\n",
              "      <th>40032</th>\n",
              "      <td>40032</td>\n",
              "      <td>NaN</td>\n",
              "      <td>A986BDAA-6D7C-4017-8E62-A3C104E946B9</td>\n",
              "      <td>NaN</td>\n",
              "      <td>NaN</td>\n",
              "      <td>1</td>\n",
              "      <td>iPhone13,4</td>\n",
              "      <td>01234</td>\n",
              "      <td>NaN</td>\n",
              "      <td>ปกติ (เหลืองใส)</td>\n",
              "      <td>1</td>\n",
              "      <td>เสรี</td>\n",
              "      <td>data is not completed</td>\n",
              "      <td>data is not completed</td>\n",
              "    </tr>\n",
              "    <tr>\n",
              "      <th>40033</th>\n",
              "      <td>40033</td>\n",
              "      <td>NaN</td>\n",
              "      <td>bbuogxulur.png</td>\n",
              "      <td>NaN</td>\n",
              "      <td>NaN</td>\n",
              "      <td>NaN</td>\n",
              "      <td>Samsung SM-A115F</td>\n",
              "      <td>01234</td>\n",
              "      <td>NaN</td>\n",
              "      <td>NaN</td>\n",
              "      <td>1</td>\n",
              "      <td>เสรี</td>\n",
              "      <td>data is not completed</td>\n",
              "      <td>data is not completed</td>\n",
              "    </tr>\n",
              "    <tr>\n",
              "      <th>40034</th>\n",
              "      <td>40034</td>\n",
              "      <td>NaN</td>\n",
              "      <td>zttpqogiso.png</td>\n",
              "      <td>NaN</td>\n",
              "      <td>NaN</td>\n",
              "      <td>1</td>\n",
              "      <td>Samsung SM-A115F</td>\n",
              "      <td>01234</td>\n",
              "      <td>NaN</td>\n",
              "      <td>ปกติ (เหลืองใส)</td>\n",
              "      <td>1</td>\n",
              "      <td>เสรี</td>\n",
              "      <td>data is not completed</td>\n",
              "      <td>data is not completed</td>\n",
              "    </tr>\n",
              "  </tbody>\n",
              "</table>\n",
              "<p>40035 rows × 14 columns</p>\n",
              "</div>\n",
              "      <button class=\"colab-df-convert\" onclick=\"convertToInteractive('df-602c7c3f-e86e-4e50-9bcf-4879fdf1514e')\"\n",
              "              title=\"Convert this dataframe to an interactive table.\"\n",
              "              style=\"display:none;\">\n",
              "        \n",
              "  <svg xmlns=\"http://www.w3.org/2000/svg\" height=\"24px\"viewBox=\"0 0 24 24\"\n",
              "       width=\"24px\">\n",
              "    <path d=\"M0 0h24v24H0V0z\" fill=\"none\"/>\n",
              "    <path d=\"M18.56 5.44l.94 2.06.94-2.06 2.06-.94-2.06-.94-.94-2.06-.94 2.06-2.06.94zm-11 1L8.5 8.5l.94-2.06 2.06-.94-2.06-.94L8.5 2.5l-.94 2.06-2.06.94zm10 10l.94 2.06.94-2.06 2.06-.94-2.06-.94-.94-2.06-.94 2.06-2.06.94z\"/><path d=\"M17.41 7.96l-1.37-1.37c-.4-.4-.92-.59-1.43-.59-.52 0-1.04.2-1.43.59L10.3 9.45l-7.72 7.72c-.78.78-.78 2.05 0 2.83L4 21.41c.39.39.9.59 1.41.59.51 0 1.02-.2 1.41-.59l7.78-7.78 2.81-2.81c.8-.78.8-2.07 0-2.86zM5.41 20L4 18.59l7.72-7.72 1.47 1.35L5.41 20z\"/>\n",
              "  </svg>\n",
              "      </button>\n",
              "      \n",
              "  <style>\n",
              "    .colab-df-container {\n",
              "      display:flex;\n",
              "      flex-wrap:wrap;\n",
              "      gap: 12px;\n",
              "    }\n",
              "\n",
              "    .colab-df-convert {\n",
              "      background-color: #E8F0FE;\n",
              "      border: none;\n",
              "      border-radius: 50%;\n",
              "      cursor: pointer;\n",
              "      display: none;\n",
              "      fill: #1967D2;\n",
              "      height: 32px;\n",
              "      padding: 0 0 0 0;\n",
              "      width: 32px;\n",
              "    }\n",
              "\n",
              "    .colab-df-convert:hover {\n",
              "      background-color: #E2EBFA;\n",
              "      box-shadow: 0px 1px 2px rgba(60, 64, 67, 0.3), 0px 1px 3px 1px rgba(60, 64, 67, 0.15);\n",
              "      fill: #174EA6;\n",
              "    }\n",
              "\n",
              "    [theme=dark] .colab-df-convert {\n",
              "      background-color: #3B4455;\n",
              "      fill: #D2E3FC;\n",
              "    }\n",
              "\n",
              "    [theme=dark] .colab-df-convert:hover {\n",
              "      background-color: #434B5C;\n",
              "      box-shadow: 0px 1px 3px 1px rgba(0, 0, 0, 0.15);\n",
              "      filter: drop-shadow(0px 1px 2px rgba(0, 0, 0, 0.3));\n",
              "      fill: #FFFFFF;\n",
              "    }\n",
              "  </style>\n",
              "\n",
              "      <script>\n",
              "        const buttonEl =\n",
              "          document.querySelector('#df-602c7c3f-e86e-4e50-9bcf-4879fdf1514e button.colab-df-convert');\n",
              "        buttonEl.style.display =\n",
              "          google.colab.kernel.accessAllowed ? 'block' : 'none';\n",
              "\n",
              "        async function convertToInteractive(key) {\n",
              "          const element = document.querySelector('#df-602c7c3f-e86e-4e50-9bcf-4879fdf1514e');\n",
              "          const dataTable =\n",
              "            await google.colab.kernel.invokeFunction('convertToInteractive',\n",
              "                                                     [key], {});\n",
              "          if (!dataTable) return;\n",
              "\n",
              "          const docLinkHtml = 'Like what you see? Visit the ' +\n",
              "            '<a target=\"_blank\" href=https://colab.research.google.com/notebooks/data_table.ipynb>data table notebook</a>'\n",
              "            + ' to learn more about interactive tables.';\n",
              "          element.innerHTML = '';\n",
              "          dataTable['output_type'] = 'display_data';\n",
              "          await google.colab.output.renderOutput(dataTable, element);\n",
              "          const docLink = document.createElement('div');\n",
              "          docLink.innerHTML = docLinkHtml;\n",
              "          element.appendChild(docLink);\n",
              "        }\n",
              "      </script>\n",
              "    </div>\n",
              "  </div>\n",
              "  "
            ]
          },
          "metadata": {},
          "execution_count": 4
        }
      ]
    },
    {
      "cell_type": "code",
      "source": [
        "data1.shape"
      ],
      "metadata": {
        "colab": {
          "base_uri": "https://localhost:8080/"
        },
        "id": "FMtTqwtwsuy_",
        "outputId": "20f47da3-1035-4a95-e88d-41c488f0ae09"
      },
      "execution_count": 5,
      "outputs": [
        {
          "output_type": "execute_result",
          "data": {
            "text/plain": [
              "(40035, 14)"
            ]
          },
          "metadata": {},
          "execution_count": 5
        }
      ]
    },
    {
      "cell_type": "markdown",
      "source": [
        "### ตรวจสอบหาค่า NaN หรือ Missing"
      ],
      "metadata": {
        "id": "LoDcHSCUogwr"
      }
    },
    {
      "cell_type": "code",
      "source": [
        "data1.isnull().any()  # ตรวจสอบหาค่า missing"
      ],
      "metadata": {
        "colab": {
          "base_uri": "https://localhost:8080/"
        },
        "id": "OkbxmRjsn6-m",
        "outputId": "456ad69f-c8fe-46b9-aaf1-50548a99b897"
      },
      "execution_count": 6,
      "outputs": [
        {
          "output_type": "execute_result",
          "data": {
            "text/plain": [
              "Unnamed: 0      False\n",
              "user             True\n",
              "RowKey           True\n",
              "care             True\n",
              "date             True\n",
              "ov               True\n",
              "phone            True\n",
              "site             True\n",
              "time             True\n",
              "urine            True\n",
              "pid              True\n",
              "PartitionKey     True\n",
              "title            True\n",
              "age              True\n",
              "dtype: bool"
            ]
          },
          "metadata": {},
          "execution_count": 6
        }
      ]
    },
    {
      "cell_type": "markdown",
      "source": [
        "จากการตรวจสอบค่า missing พบว่า ทุกคอมลัมน์มีค่า missing ดังนั้นเราจึงจะทำการแก้ไขค่า missing ไปทีละคอมลัมน์"
      ],
      "metadata": {
        "id": "lkkqvMsirm5A"
      }
    },
    {
      "cell_type": "markdown",
      "source": [
        "# Data Preprocessing"
      ],
      "metadata": {
        "id": "Vzd113m6ryFo"
      }
    },
    {
      "cell_type": "code",
      "source": [
        ""
      ],
      "metadata": {
        "id": "WlZB2amEonQ3"
      },
      "execution_count": 6,
      "outputs": []
    }
  ]
}